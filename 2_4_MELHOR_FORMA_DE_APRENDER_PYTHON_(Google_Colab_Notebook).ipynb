{
  "nbformat": 4,
  "nbformat_minor": 0,
  "metadata": {
    "colab": {
      "name": "2/4 MELHOR FORMA DE APRENDER PYTHON (Google Colab Notebook).ipynb",
      "provenance": [],
      "include_colab_link": true
    },
    "kernelspec": {
      "name": "python3",
      "display_name": "Python 3"
    }
  },
  "cells": [
    {
      "cell_type": "markdown",
      "metadata": {
        "id": "view-in-github",
        "colab_type": "text"
      },
      "source": [
        "<a href=\"https://colab.research.google.com/github/MatheusHonorato/introducao-a-ciencia-de-dados/blob/master/2_4_MELHOR_FORMA_DE_APRENDER_PYTHON_(Google_Colab_Notebook).ipynb\" target=\"_parent\"><img src=\"https://colab.research.google.com/assets/colab-badge.svg\" alt=\"Open In Colab\"/></a>"
      ]
    },
    {
      "cell_type": "code",
      "metadata": {
        "id": "QouRyfnFsy57",
        "colab_type": "code",
        "outputId": "8b64e2b7-10d9-495f-ad47-b6730f49e1b8",
        "colab": {
          "base_uri": "https://localhost:8080/",
          "height": 34
        }
      },
      "source": [
        "nome = \"Michael\"\n",
        "print(nome)"
      ],
      "execution_count": 0,
      "outputs": [
        {
          "output_type": "stream",
          "text": [
            "Michael\n"
          ],
          "name": "stdout"
        }
      ]
    },
    {
      "cell_type": "code",
      "metadata": {
        "id": "zbzXnvwE2nX5",
        "colab_type": "code",
        "outputId": "eed37d6d-68bf-4421-b17a-b4d5a4bfe266",
        "colab": {
          "base_uri": "https://localhost:8080/",
          "height": 34
        }
      },
      "source": [
        "nome = \"Guilherme\"\n",
        "nome"
      ],
      "execution_count": 0,
      "outputs": [
        {
          "output_type": "execute_result",
          "data": {
            "text/plain": [
              "'Guilherme'"
            ]
          },
          "metadata": {
            "tags": []
          },
          "execution_count": 5
        }
      ]
    },
    {
      "cell_type": "code",
      "metadata": {
        "id": "E5F5Z77I2s79",
        "colab_type": "code",
        "outputId": "25e77808-8e47-4f94-ee85-e004c7414797",
        "colab": {
          "base_uri": "https://localhost:8080/",
          "height": 34
        }
      },
      "source": [
        "idade = 37\n",
        "idade"
      ],
      "execution_count": 0,
      "outputs": [
        {
          "output_type": "execute_result",
          "data": {
            "text/plain": [
              "37"
            ]
          },
          "metadata": {
            "tags": []
          },
          "execution_count": 6
        }
      ]
    },
    {
      "cell_type": "code",
      "metadata": {
        "id": "8R44OAUt2wLe",
        "colab_type": "code",
        "outputId": "5e5d3207-94f3-42de-a572-7e8410fad361",
        "colab": {
          "base_uri": "https://localhost:8080/",
          "height": 34
        }
      },
      "source": [
        "idade + 3"
      ],
      "execution_count": 0,
      "outputs": [
        {
          "output_type": "execute_result",
          "data": {
            "text/plain": [
              "40"
            ]
          },
          "metadata": {
            "tags": []
          },
          "execution_count": 7
        }
      ]
    },
    {
      "cell_type": "code",
      "metadata": {
        "id": "4kB2GZH92y0U",
        "colab_type": "code",
        "outputId": "be924643-d5b6-4802-f361-3cf1aebc074a",
        "colab": {
          "base_uri": "https://localhost:8080/",
          "height": 34
        }
      },
      "source": [
        "idade"
      ],
      "execution_count": 0,
      "outputs": [
        {
          "output_type": "execute_result",
          "data": {
            "text/plain": [
              "37"
            ]
          },
          "metadata": {
            "tags": []
          },
          "execution_count": 8
        }
      ]
    },
    {
      "cell_type": "code",
      "metadata": {
        "id": "2TLDFfRO22gd",
        "colab_type": "code",
        "outputId": "6200adc8-e589-40df-809d-39c96796ee4e",
        "colab": {
          "base_uri": "https://localhost:8080/",
          "height": 34
        }
      },
      "source": [
        "idade = idade + 3\n",
        "idade"
      ],
      "execution_count": 0,
      "outputs": [
        {
          "output_type": "execute_result",
          "data": {
            "text/plain": [
              "40"
            ]
          },
          "metadata": {
            "tags": []
          },
          "execution_count": 9
        }
      ]
    },
    {
      "cell_type": "code",
      "metadata": {
        "id": "Uk5qN0Yt2-8U",
        "colab_type": "code",
        "outputId": "3745d713-74db-4085-cf6f-19bb2ee81750",
        "colab": {
          "base_uri": "https://localhost:8080/",
          "height": 34
        }
      },
      "source": [
        "idade"
      ],
      "execution_count": 0,
      "outputs": [
        {
          "output_type": "execute_result",
          "data": {
            "text/plain": [
              "40"
            ]
          },
          "metadata": {
            "tags": []
          },
          "execution_count": 10
        }
      ]
    },
    {
      "cell_type": "code",
      "metadata": {
        "id": "_Opeb3M83UU4",
        "colab_type": "code",
        "colab": {}
      },
      "source": [
        "def mais_um_ano(idade):\n",
        "    print(\"ta dentro dessa funcao\")\n",
        "    return idade + 1"
      ],
      "execution_count": 0,
      "outputs": []
    },
    {
      "cell_type": "code",
      "metadata": {
        "id": "IkqcY0qv3vaE",
        "colab_type": "code",
        "outputId": "74e1f661-f0cb-43c3-bbed-08faa8939423",
        "colab": {
          "base_uri": "https://localhost:8080/",
          "height": 51
        }
      },
      "source": [
        "mais_um_ano(43)"
      ],
      "execution_count": 0,
      "outputs": [
        {
          "output_type": "stream",
          "text": [
            "ta dentro dessa funcao\n"
          ],
          "name": "stdout"
        },
        {
          "output_type": "execute_result",
          "data": {
            "text/plain": [
              "44"
            ]
          },
          "metadata": {
            "tags": []
          },
          "execution_count": 12
        }
      ]
    },
    {
      "cell_type": "code",
      "metadata": {
        "id": "23dUgQPU4br9",
        "colab_type": "code",
        "colab": {}
      },
      "source": [
        "filme1 = \"Toy Story 17\"\n",
        "filme2 = \"A Xuxa contra o Baixo Astral\"\n",
        "filme3 = \"Matrix 1\""
      ],
      "execution_count": 0,
      "outputs": []
    },
    {
      "cell_type": "code",
      "metadata": {
        "id": "69IqKJiY2_wc",
        "colab_type": "code",
        "outputId": "e2cd17f2-d570-48cc-97f6-999b2711db85",
        "colab": {
          "base_uri": "https://localhost:8080/",
          "height": 34
        }
      },
      "source": [
        "filmes = [\"Toy Story 17\", \"A Xuxa contra o Baixo Astral\", \"Matrix 1\"]\n",
        "filmes"
      ],
      "execution_count": 0,
      "outputs": [
        {
          "output_type": "execute_result",
          "data": {
            "text/plain": [
              "['Toy Story 17', 'A Xuxa contra o Baixo Astral', 'Matrix 1']"
            ]
          },
          "metadata": {
            "tags": []
          },
          "execution_count": 14
        }
      ]
    },
    {
      "cell_type": "code",
      "metadata": {
        "id": "26VP4ITsGhzY",
        "colab_type": "code",
        "outputId": "b32ae69a-311e-41a8-b2c1-58225e13d24c",
        "colab": {
          "base_uri": "https://localhost:8080/",
          "height": 34
        }
      },
      "source": [
        "list()"
      ],
      "execution_count": 0,
      "outputs": [
        {
          "output_type": "execute_result",
          "data": {
            "text/plain": [
              "[]"
            ]
          },
          "metadata": {
            "tags": []
          },
          "execution_count": 15
        }
      ]
    },
    {
      "cell_type": "code",
      "metadata": {
        "id": "hrvp3C8VGjVv",
        "colab_type": "code",
        "colab": {}
      },
      "source": [
        "def imprime_filmes(filmes_que_quero_imprimir):\n",
        "  print(\"A lista de filmes que eu tenho disponível\")\n",
        "  for filme in filmes_que_quero_imprimir:\n",
        "    print(filme)"
      ],
      "execution_count": 0,
      "outputs": []
    },
    {
      "cell_type": "code",
      "metadata": {
        "id": "MpVm3x8EG-wu",
        "colab_type": "code",
        "outputId": "ce1890de-2911-4fe0-f1ee-0699e62c20c0",
        "colab": {
          "base_uri": "https://localhost:8080/",
          "height": 85
        }
      },
      "source": [
        "imprime_filmes(filmes)"
      ],
      "execution_count": 0,
      "outputs": [
        {
          "output_type": "stream",
          "text": [
            "A lista de filmes que eu tenho disponível\n",
            "Toy Story 17\n",
            "A Xuxa contra o Baixo Astral\n",
            "Matrix 1\n"
          ],
          "name": "stdout"
        }
      ]
    },
    {
      "cell_type": "code",
      "metadata": {
        "id": "Ndhn7bneKQQO",
        "colab_type": "code",
        "outputId": "f2181890-0baf-459e-cf6d-3b1789575c7f",
        "colab": {
          "base_uri": "https://localhost:8080/",
          "height": 34
        }
      },
      "source": [
        "filmes[0]"
      ],
      "execution_count": 0,
      "outputs": [
        {
          "output_type": "execute_result",
          "data": {
            "text/plain": [
              "'Toy Story 17'"
            ]
          },
          "metadata": {
            "tags": []
          },
          "execution_count": 22
        }
      ]
    },
    {
      "cell_type": "code",
      "metadata": {
        "id": "bdKGiXb_Krh_",
        "colab_type": "code",
        "outputId": "948bf953-09f6-4bca-c720-73edb21f300c",
        "colab": {
          "base_uri": "https://localhost:8080/",
          "height": 34
        }
      },
      "source": [
        "filmes[-1]"
      ],
      "execution_count": 0,
      "outputs": [
        {
          "output_type": "execute_result",
          "data": {
            "text/plain": [
              "'Matrix 1'"
            ]
          },
          "metadata": {
            "tags": []
          },
          "execution_count": 23
        }
      ]
    },
    {
      "cell_type": "code",
      "metadata": {
        "id": "3GZKUSlnKwAH",
        "colab_type": "code",
        "outputId": "03e3ff78-b4b8-44f2-96df-024f771f3ba9",
        "colab": {
          "base_uri": "https://localhost:8080/",
          "height": 34
        }
      },
      "source": [
        "filmes[-2]"
      ],
      "execution_count": 0,
      "outputs": [
        {
          "output_type": "execute_result",
          "data": {
            "text/plain": [
              "'A Xuxa contra o Baixo Astral'"
            ]
          },
          "metadata": {
            "tags": []
          },
          "execution_count": 24
        }
      ]
    },
    {
      "cell_type": "code",
      "metadata": {
        "id": "ZNz9PdqSK183",
        "colab_type": "code",
        "outputId": "16673797-b405-4b07-a13e-58159a86e7e0",
        "colab": {
          "base_uri": "https://localhost:8080/",
          "height": 34
        }
      },
      "source": [
        "filmes[1:]"
      ],
      "execution_count": 0,
      "outputs": [
        {
          "output_type": "execute_result",
          "data": {
            "text/plain": [
              "['A Xuxa contra o Baixo Astral', 'Matrix 1']"
            ]
          },
          "metadata": {
            "tags": []
          },
          "execution_count": 25
        }
      ]
    },
    {
      "cell_type": "code",
      "metadata": {
        "id": "vp48SocmK9lJ",
        "colab_type": "code",
        "outputId": "9936add1-72b8-4986-efbe-6f1f469b1fb0",
        "colab": {
          "base_uri": "https://localhost:8080/",
          "height": 34
        }
      },
      "source": [
        "filmes[-2:]"
      ],
      "execution_count": 0,
      "outputs": [
        {
          "output_type": "execute_result",
          "data": {
            "text/plain": [
              "['A Xuxa contra o Baixo Astral', 'Matrix 1']"
            ]
          },
          "metadata": {
            "tags": []
          },
          "execution_count": 26
        }
      ]
    },
    {
      "cell_type": "code",
      "metadata": {
        "id": "QSqevNbQLadZ",
        "colab_type": "code",
        "outputId": "b1443706-4685-473e-f4e8-33245fa49d90",
        "colab": {
          "base_uri": "https://localhost:8080/",
          "height": 136
        }
      },
      "source": [
        "for filme in filmes:\n",
        "  print(filme)\n",
        "  print(\"...\")\n",
        "print(\"estou fora\")"
      ],
      "execution_count": 0,
      "outputs": [
        {
          "output_type": "stream",
          "text": [
            "Toy Story 17\n",
            "...\n",
            "A Xuxa contra o Baixo Astral\n",
            "...\n",
            "Matrix 1\n",
            "...\n",
            "estou fora\n"
          ],
          "name": "stdout"
        }
      ]
    },
    {
      "cell_type": "code",
      "metadata": {
        "id": "VjKFyQdsQzgW",
        "colab_type": "code",
        "colab": {}
      },
      "source": [
        "dados = {\"nome\" : \"Guilherme\",\n",
        "         \"idade\" : 37,\n",
        "         \"empresa\" : \"Alura\"}"
      ],
      "execution_count": 0,
      "outputs": []
    },
    {
      "cell_type": "code",
      "metadata": {
        "id": "5tjnHJaCRIG1",
        "colab_type": "code",
        "outputId": "5f7aabf2-a8fa-4beb-dc1f-20a01d5342a0",
        "colab": {
          "base_uri": "https://localhost:8080/",
          "height": 34
        }
      },
      "source": [
        "dados"
      ],
      "execution_count": 0,
      "outputs": [
        {
          "output_type": "execute_result",
          "data": {
            "text/plain": [
              "{'empresa': 'Alura', 'idade': 37, 'nome': 'Guilherme'}"
            ]
          },
          "metadata": {
            "tags": []
          },
          "execution_count": 33
        }
      ]
    },
    {
      "cell_type": "code",
      "metadata": {
        "id": "8b6Of-hWS7S6",
        "colab_type": "code",
        "outputId": "ea03a42e-bdc1-4f64-d673-8b2005d489a2",
        "colab": {
          "base_uri": "https://localhost:8080/",
          "height": 34
        }
      },
      "source": [
        "dados[\"empresa\"]"
      ],
      "execution_count": 0,
      "outputs": [
        {
          "output_type": "execute_result",
          "data": {
            "text/plain": [
              "'Alura'"
            ]
          },
          "metadata": {
            "tags": []
          },
          "execution_count": 35
        }
      ]
    }
  ]
}